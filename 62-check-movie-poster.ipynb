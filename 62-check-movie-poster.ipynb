{
 "cells": [
  {
   "cell_type": "markdown",
   "id": "d95eb7d6",
   "metadata": {},
   "source": [
    "# 62-movie-poster"
   ]
  },
  {
   "cell_type": "code",
   "execution_count": 5,
   "id": "cc77a538",
   "metadata": {},
   "outputs": [],
   "source": [
    "import pandas as pd\n",
    "import numpy as np\n",
    "import matplotlib.pyplot as plt\n",
    "import re\n",
    "import os\n",
    "\n",
    "import requests\n",
    "from bs4 import BeautifulSoup\n",
    "import timeit\n",
    "import json\n",
    "import shutil"
   ]
  },
  {
   "cell_type": "markdown",
   "id": "a2293fa5",
   "metadata": {},
   "source": [
    "# Find all missing movie posters"
   ]
  },
  {
   "cell_type": "code",
   "execution_count": 30,
   "id": "c436d35b",
   "metadata": {},
   "outputs": [
    {
     "data": {
      "text/plain": [
       "2158"
      ]
     },
     "execution_count": 30,
     "metadata": {},
     "output_type": "execute_result"
    }
   ],
   "source": [
    "have = list(map(lambda x: x.split(\".\")[0], os.listdir(\"Data/movie_poster/total\")))\n",
    "all_ids = pd.read_csv(\"Data/noVotes_kmode_final_df.csv\")['id'].tolist()\n",
    "missing = [i for i in all_ids if i not in have]\n",
    "len(missing)"
   ]
  },
  {
   "cell_type": "code",
   "execution_count": 24,
   "id": "4d6aa69e",
   "metadata": {},
   "outputs": [
    {
     "name": "stdout",
     "output_type": "stream",
     "text": [
      "Image sucessfully Downloaded: \n"
     ]
    }
   ],
   "source": [
    "url = \"https://www.imdb.com/title/tt0499549/\"\n",
    "page = requests.get(url)\n",
    "soup = BeautifulSoup(page.content, \"html.parser\")\n",
    "cover_link = soup.find(\"img\", class_=\"ipc-image\").get(\"src\")\n",
    "\n",
    "r = requests.get(cover_link, stream = True)\n",
    "# Check if the image was retrieved successfully\n",
    "if r.status_code == 200:\n",
    "    # Set decode_content value to True, otherwise the downloaded image file's size will be zero.\n",
    "    r.raw.decode_content = True\n",
    "    \n",
    "    # Open a local file with wb ( write binary ) permission.\n",
    "    with open(\"./avatar.jpg\",'wb') as f:\n",
    "        shutil.copyfileobj(r.raw, f)\n",
    "        \n",
    "    print('Image sucessfully Downloaded: ')\n",
    "else:\n",
    "    print('Image Couldn\\'t be retreived')"
   ]
  },
  {
   "cell_type": "code",
   "execution_count": 32,
   "id": "3a3f32ed",
   "metadata": {},
   "outputs": [
    {
     "data": {
      "text/plain": [
       "1154"
      ]
     },
     "execution_count": 32,
     "metadata": {},
     "output_type": "execute_result"
    }
   ],
   "source": [
    "i"
   ]
  },
  {
   "cell_type": "code",
   "execution_count": null,
   "id": "be646fb7",
   "metadata": {},
   "outputs": [],
   "source": [
    "start = timeit.default_timer()\n",
    "\n",
    "for i in range(1155, len(missing)):\n",
    "    tid = missing[i]\n",
    "    URL = \"https://www.imdb.com/title/\" + tid + \"/\"\n",
    "    page = requests.get(URL)\n",
    "\n",
    "    soup = BeautifulSoup(page.content, \"html.parser\")\n",
    "    cover_link = soup.find(\"img\", class_=\"ipc-image\").get(\"src\")\n",
    "    r = requests.get(cover_link, stream = True)\n",
    "    # Check if the image was retrieved successfully\n",
    "    if r.status_code == 200:\n",
    "        # Set decode_content value to True, otherwise the downloaded image file's size will be zero.\n",
    "        r.raw.decode_content = True\n",
    "\n",
    "        # Open a local file with wb ( write binary ) permission.\n",
    "        with open(\"./Data/movie_poster/all/\"+ tid + \".jpg\",'wb') as f:\n",
    "            shutil.copyfileobj(r.raw, f)\n",
    "\n",
    "        print('Image sucessfully Downloaded: ')\n",
    "    else:\n",
    "        print('Image Couldn\\'t be retreived')\n",
    "\n",
    "stop = timeit.default_timer()\n",
    "\n",
    "print('Time: ', stop - start)"
   ]
  },
  {
   "cell_type": "markdown",
   "id": "7c46ffe9-5896-4f7f-b0de-6425eb4e8819",
   "metadata": {},
   "source": [
    "# Find final missing id"
   ]
  },
  {
   "cell_type": "code",
   "execution_count": 38,
   "id": "bc8670f0-5705-4b1a-aaa2-e3cb6b831e55",
   "metadata": {},
   "outputs": [
    {
     "data": {
      "text/plain": [
       "3802"
      ]
     },
     "execution_count": 38,
     "metadata": {},
     "output_type": "execute_result"
    }
   ],
   "source": [
    "final_have = list(map(lambda x: x.split(\".\")[0], os.listdir(\"Data/movie_poster/all copy/\")))\n",
    "len(final_have)"
   ]
  },
  {
   "cell_type": "code",
   "execution_count": 39,
   "id": "97b2416c-652f-4c45-89fe-eb69323ca802",
   "metadata": {},
   "outputs": [
    {
     "data": {
      "text/plain": [
       "[]"
      ]
     },
     "execution_count": 39,
     "metadata": {},
     "output_type": "execute_result"
    }
   ],
   "source": [
    "missing = [i for i in all_ids if i not in final_have]\n",
    "missing"
   ]
  },
  {
   "cell_type": "code",
   "execution_count": null,
   "id": "d90bf4ab-c426-4191-a053-82e847ea2a52",
   "metadata": {},
   "outputs": [],
   "source": []
  }
 ],
 "metadata": {
  "kernelspec": {
   "display_name": "Python 3",
   "language": "python",
   "name": "python3"
  },
  "language_info": {
   "codemirror_mode": {
    "name": "ipython",
    "version": 3
   },
   "file_extension": ".py",
   "mimetype": "text/x-python",
   "name": "python",
   "nbconvert_exporter": "python",
   "pygments_lexer": "ipython3",
   "version": "3.8.3"
  }
 },
 "nbformat": 4,
 "nbformat_minor": 5
}
